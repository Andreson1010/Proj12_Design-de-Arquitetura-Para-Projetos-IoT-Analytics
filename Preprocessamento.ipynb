{
 "cells": [
  {
   "cell_type": "code",
   "execution_count": 1,
   "id": "d639c7d2-5f93-41fa-952b-e382d1703f80",
   "metadata": {},
   "outputs": [],
   "source": [
    "import pandas as pd\n",
    "import numpy as np\n",
    "from sklearn.datasets import load_svmlight_file\n",
    "\n",
    "from sklearn.decomposition import PCA\n",
    "from sklearn.preprocessing import MinMaxScaler, StandardScaler\n",
    "\n",
    "import matplotlib.pyplot as plt"
   ]
  },
  {
   "cell_type": "code",
   "execution_count": 2,
   "id": "513701ea-83b6-4725-a945-cd8f0a3e9f1c",
   "metadata": {},
   "outputs": [],
   "source": [
    "list_features = []\n",
    "list_targets = []\n",
    "for i in range(1, 11):\n",
    "    X, y = load_svmlight_file(f='Dataset/batch' + str(i) + '.dat', dtype=np.float64)\n",
    "    X = pd.DataFrame(X.toarray())\n",
    "    y = pd.Series(y)\n",
    "    \n",
    "    list_features.append(X)\n",
    "    list_targets.append(y)\n",
    "    \n",
    "X = pd.concat(list_features, ignore_index=True)\n",
    "y = pd.concat(list_targets, ignore_index=True)"
   ]
  },
  {
   "cell_type": "code",
   "execution_count": 3,
   "id": "32e74fcd-1e40-44f3-915a-17e47db2733a",
   "metadata": {},
   "outputs": [
    {
     "name": "stdout",
     "output_type": "stream",
     "text": [
      "(13910, 128)\n"
     ]
    },
    {
     "data": {
      "text/html": [
       "<div>\n",
       "<style scoped>\n",
       "    .dataframe tbody tr th:only-of-type {\n",
       "        vertical-align: middle;\n",
       "    }\n",
       "\n",
       "    .dataframe tbody tr th {\n",
       "        vertical-align: top;\n",
       "    }\n",
       "\n",
       "    .dataframe thead th {\n",
       "        text-align: right;\n",
       "    }\n",
       "</style>\n",
       "<table border=\"1\" class=\"dataframe\">\n",
       "  <thead>\n",
       "    <tr style=\"text-align: right;\">\n",
       "      <th></th>\n",
       "      <th>0</th>\n",
       "      <th>1</th>\n",
       "      <th>2</th>\n",
       "      <th>3</th>\n",
       "      <th>4</th>\n",
       "      <th>5</th>\n",
       "      <th>6</th>\n",
       "      <th>7</th>\n",
       "      <th>8</th>\n",
       "      <th>9</th>\n",
       "      <th>...</th>\n",
       "      <th>118</th>\n",
       "      <th>119</th>\n",
       "      <th>120</th>\n",
       "      <th>121</th>\n",
       "      <th>122</th>\n",
       "      <th>123</th>\n",
       "      <th>124</th>\n",
       "      <th>125</th>\n",
       "      <th>126</th>\n",
       "      <th>127</th>\n",
       "    </tr>\n",
       "  </thead>\n",
       "  <tbody>\n",
       "    <tr>\n",
       "      <th>0</th>\n",
       "      <td>15596.1621</td>\n",
       "      <td>1.868245</td>\n",
       "      <td>2.371604</td>\n",
       "      <td>2.803678</td>\n",
       "      <td>7.512213</td>\n",
       "      <td>-2.739388</td>\n",
       "      <td>-3.344671</td>\n",
       "      <td>-4.847512</td>\n",
       "      <td>15326.6914</td>\n",
       "      <td>1.768526</td>\n",
       "      <td>...</td>\n",
       "      <td>-1.071137</td>\n",
       "      <td>-3.037772</td>\n",
       "      <td>3037.0390</td>\n",
       "      <td>3.972203</td>\n",
       "      <td>0.527291</td>\n",
       "      <td>0.728443</td>\n",
       "      <td>1.445783</td>\n",
       "      <td>-0.545079</td>\n",
       "      <td>-0.902241</td>\n",
       "      <td>-2.654529</td>\n",
       "    </tr>\n",
       "    <tr>\n",
       "      <th>1</th>\n",
       "      <td>26402.0704</td>\n",
       "      <td>2.532401</td>\n",
       "      <td>5.411209</td>\n",
       "      <td>6.509906</td>\n",
       "      <td>7.658469</td>\n",
       "      <td>-4.722217</td>\n",
       "      <td>-5.817651</td>\n",
       "      <td>-7.518333</td>\n",
       "      <td>23855.7812</td>\n",
       "      <td>2.164706</td>\n",
       "      <td>...</td>\n",
       "      <td>-1.530519</td>\n",
       "      <td>-1.994993</td>\n",
       "      <td>4176.4453</td>\n",
       "      <td>4.281373</td>\n",
       "      <td>0.980205</td>\n",
       "      <td>1.628050</td>\n",
       "      <td>1.951172</td>\n",
       "      <td>-0.889333</td>\n",
       "      <td>-1.323505</td>\n",
       "      <td>-1.749225</td>\n",
       "    </tr>\n",
       "    <tr>\n",
       "      <th>2</th>\n",
       "      <td>42103.5820</td>\n",
       "      <td>3.454189</td>\n",
       "      <td>8.198175</td>\n",
       "      <td>10.508439</td>\n",
       "      <td>11.611003</td>\n",
       "      <td>-7.668313</td>\n",
       "      <td>-9.478675</td>\n",
       "      <td>-12.230939</td>\n",
       "      <td>37562.3008</td>\n",
       "      <td>2.840403</td>\n",
       "      <td>...</td>\n",
       "      <td>-2.384784</td>\n",
       "      <td>-2.867291</td>\n",
       "      <td>5914.6685</td>\n",
       "      <td>5.396827</td>\n",
       "      <td>1.403973</td>\n",
       "      <td>2.476956</td>\n",
       "      <td>3.039841</td>\n",
       "      <td>-1.334558</td>\n",
       "      <td>-1.993659</td>\n",
       "      <td>-2.348370</td>\n",
       "    </tr>\n",
       "    <tr>\n",
       "      <th>3</th>\n",
       "      <td>42825.9883</td>\n",
       "      <td>3.451192</td>\n",
       "      <td>12.113940</td>\n",
       "      <td>16.266853</td>\n",
       "      <td>39.910056</td>\n",
       "      <td>-7.849409</td>\n",
       "      <td>-9.689894</td>\n",
       "      <td>-11.921704</td>\n",
       "      <td>38379.0664</td>\n",
       "      <td>2.851173</td>\n",
       "      <td>...</td>\n",
       "      <td>-2.607199</td>\n",
       "      <td>-3.058086</td>\n",
       "      <td>6147.4744</td>\n",
       "      <td>5.501071</td>\n",
       "      <td>1.981933</td>\n",
       "      <td>3.569823</td>\n",
       "      <td>4.049197</td>\n",
       "      <td>-1.432205</td>\n",
       "      <td>-2.146158</td>\n",
       "      <td>-2.488957</td>\n",
       "    </tr>\n",
       "    <tr>\n",
       "      <th>4</th>\n",
       "      <td>58151.1757</td>\n",
       "      <td>4.194839</td>\n",
       "      <td>11.455096</td>\n",
       "      <td>15.715298</td>\n",
       "      <td>17.654915</td>\n",
       "      <td>-11.083364</td>\n",
       "      <td>-13.580692</td>\n",
       "      <td>-16.407848</td>\n",
       "      <td>51975.5899</td>\n",
       "      <td>3.480866</td>\n",
       "      <td>...</td>\n",
       "      <td>-3.594763</td>\n",
       "      <td>-4.181920</td>\n",
       "      <td>8158.6449</td>\n",
       "      <td>7.174334</td>\n",
       "      <td>1.993808</td>\n",
       "      <td>3.829303</td>\n",
       "      <td>4.402448</td>\n",
       "      <td>-1.930107</td>\n",
       "      <td>-2.931265</td>\n",
       "      <td>-4.088756</td>\n",
       "    </tr>\n",
       "  </tbody>\n",
       "</table>\n",
       "<p>5 rows × 128 columns</p>\n",
       "</div>"
      ],
      "text/plain": [
       "          0         1          2          3          4          5    \\\n",
       "0  15596.1621  1.868245   2.371604   2.803678   7.512213  -2.739388   \n",
       "1  26402.0704  2.532401   5.411209   6.509906   7.658469  -4.722217   \n",
       "2  42103.5820  3.454189   8.198175  10.508439  11.611003  -7.668313   \n",
       "3  42825.9883  3.451192  12.113940  16.266853  39.910056  -7.849409   \n",
       "4  58151.1757  4.194839  11.455096  15.715298  17.654915 -11.083364   \n",
       "\n",
       "         6          7           8         9    ...       118       119  \\\n",
       "0  -3.344671  -4.847512  15326.6914  1.768526  ... -1.071137 -3.037772   \n",
       "1  -5.817651  -7.518333  23855.7812  2.164706  ... -1.530519 -1.994993   \n",
       "2  -9.478675 -12.230939  37562.3008  2.840403  ... -2.384784 -2.867291   \n",
       "3  -9.689894 -11.921704  38379.0664  2.851173  ... -2.607199 -3.058086   \n",
       "4 -13.580692 -16.407848  51975.5899  3.480866  ... -3.594763 -4.181920   \n",
       "\n",
       "         120       121       122       123       124       125       126  \\\n",
       "0  3037.0390  3.972203  0.527291  0.728443  1.445783 -0.545079 -0.902241   \n",
       "1  4176.4453  4.281373  0.980205  1.628050  1.951172 -0.889333 -1.323505   \n",
       "2  5914.6685  5.396827  1.403973  2.476956  3.039841 -1.334558 -1.993659   \n",
       "3  6147.4744  5.501071  1.981933  3.569823  4.049197 -1.432205 -2.146158   \n",
       "4  8158.6449  7.174334  1.993808  3.829303  4.402448 -1.930107 -2.931265   \n",
       "\n",
       "        127  \n",
       "0 -2.654529  \n",
       "1 -1.749225  \n",
       "2 -2.348370  \n",
       "3 -2.488957  \n",
       "4 -4.088756  \n",
       "\n",
       "[5 rows x 128 columns]"
      ]
     },
     "execution_count": 3,
     "metadata": {},
     "output_type": "execute_result"
    }
   ],
   "source": [
    "print(X.shape)\n",
    "X.head()"
   ]
  },
  {
   "cell_type": "code",
   "execution_count": 4,
   "id": "b9203f30-6c82-4374-8570-e1d0c68be601",
   "metadata": {},
   "outputs": [
    {
     "name": "stderr",
     "output_type": "stream",
     "text": [
      "C:\\Users\\Francisco\\anaconda3\\lib\\site-packages\\sklearn\\utils\\validation.py:623: FutureWarning: is_sparse is deprecated and will be removed in a future version. Check `isinstance(dtype, pd.SparseDtype)` instead.\n",
      "  if not hasattr(array, \"sparse\") and array.dtypes.apply(is_sparse).any():\n",
      "C:\\Users\\Francisco\\anaconda3\\lib\\site-packages\\sklearn\\utils\\validation.py:623: FutureWarning: is_sparse is deprecated and will be removed in a future version. Check `isinstance(dtype, pd.SparseDtype)` instead.\n",
      "  if not hasattr(array, \"sparse\") and array.dtypes.apply(is_sparse).any():\n"
     ]
    }
   ],
   "source": [
    "scaler = MinMaxScaler(feature_range=(-1, 1))\n",
    "cols = X.columns\n",
    "X = scaler.fit_transform(X)\n",
    "X = pd.DataFrame(X, columns=cols)"
   ]
  },
  {
   "cell_type": "markdown",
   "id": "fa8dc7fc-2027-423a-a2bb-f4b5423755c2",
   "metadata": {},
   "source": [
    "PCA\n",
    "Análise de componentes principais com os principais atributos a serem analisados"
   ]
  },
  {
   "cell_type": "code",
   "execution_count": 5,
   "id": "cf46ec1e-5d6d-46f6-90ba-9f895b1245f4",
   "metadata": {},
   "outputs": [
    {
     "name": "stderr",
     "output_type": "stream",
     "text": [
      "C:\\Users\\Francisco\\anaconda3\\lib\\site-packages\\sklearn\\utils\\validation.py:623: FutureWarning: is_sparse is deprecated and will be removed in a future version. Check `isinstance(dtype, pd.SparseDtype)` instead.\n",
      "  if not hasattr(array, \"sparse\") and array.dtypes.apply(is_sparse).any():\n"
     ]
    },
    {
     "data": {
      "image/png": "[encoded data removed]",
      "text/plain": [
       "<Figure size 640x480 with 1 Axes>"
      ]
     },
     "metadata": {},
     "output_type": "display_data"
    }
   ],
   "source": [
    "pca = PCA().fit(X)\n",
    "plt.plot(np.cumsum(pca.explained_variance_ratio_))\n",
    "plt.xlabel('Numero de Componentes encontrados')\n",
    "plt.ylabel('Variancia acumulada')\n",
    "plt.show()"
   ]
  },
  {
   "cell_type": "code",
   "execution_count": 6,
   "id": "7a749f42-7c82-44de-a1a3-4b167e009e8e",
   "metadata": {},
   "outputs": [
    {
     "name": "stderr",
     "output_type": "stream",
     "text": [
      "C:\\Users\\Francisco\\anaconda3\\lib\\site-packages\\sklearn\\utils\\validation.py:623: FutureWarning: is_sparse is deprecated and will be removed in a future version. Check `isinstance(dtype, pd.SparseDtype)` instead.\n",
      "  if not hasattr(array, \"sparse\") and array.dtypes.apply(is_sparse).any():\n"
     ]
    }
   ],
   "source": [
    "X_pca = PCA(0.995).fit_transform(X) # PCA(30) com 1/4 das features\n",
    "X_pca = pd.DataFrame(X_pca)"
   ]
  },
  {
   "cell_type": "code",
   "execution_count": 7,
   "id": "00bd3996-d7dc-4ba8-acb7-9e774e381e37",
   "metadata": {},
   "outputs": [],
   "source": [
    "y.name = 'target'\n",
    "dataset = pd.concat([X, y], axis=1)\n",
    "dataset.to_csv('Dataset/dataset.csv', index=False)"
   ]
  },
  {
   "cell_type": "code",
   "execution_count": 8,
   "id": "c073e144-d559-47d8-932c-299cbeb7c4af",
   "metadata": {},
   "outputs": [],
   "source": [
    "# Dataset de treinamento do modelo\n",
    "y.name = 'target'\n",
    "dataset_pca = pd.concat([X_pca, y], axis=1)\n",
    "dataset_pca.to_csv('Dataset/dataset_pca.csv', index=False)"
   ]
  },
  {
   "cell_type": "code",
   "execution_count": 9,
   "id": "0fd8ed5c-50e7-4a71-ad19-69999e3c3058",
   "metadata": {},
   "outputs": [],
   "source": [
    "# Datasets de testes do sistema\n",
    "# Criar quatro amostras do dataset\n",
    "sample1 = X_pca.sample(frac=0.50, random_state=1)\n",
    "sample2 = X_pca.sample(frac=0.50, random_state=2)\n",
    "sample3 = X_pca.sample(frac=0.50, random_state=3)\n",
    "sample4 = X_pca.sample(frac=0.50, random_state=4)\n",
    "\n",
    "# Salvar as amostras em disco\n",
    "sample1.to_csv('sample1.csv', index=False)\n",
    "sample2.to_csv('sample2.csv', index=False)\n",
    "sample3.to_csv('sample3.csv', index=False)\n",
    "sample4.to_csv('sample4.csv', index=False)"
   ]
  },
  {
   "cell_type": "code",
   "execution_count": null,
   "id": "57ed7744-719a-4705-8854-a8a55be9fc81",
   "metadata": {},
   "outputs": [],
   "source": []
  }
 ],
 "metadata": {
  "kernelspec": {
   "display_name": "Python 3 (ipykernel)",
   "language": "python",
   "name": "python3"
  },
  "language_info": {
   "codemirror_mode": {
    "name": "ipython",
    "version": 3
   },
   "file_extension": ".py",
   "mimetype": "text/x-python",
   "name": "python",
   "nbconvert_exporter": "python",
   "pygments_lexer": "ipython3",
   "version": "3.9.13"
  }
 },
 "nbformat": 4,
 "nbformat_minor": 5
}
